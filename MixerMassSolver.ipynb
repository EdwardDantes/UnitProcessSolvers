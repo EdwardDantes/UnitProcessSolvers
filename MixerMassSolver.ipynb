{
 "cells": [
  {
   "cell_type": "code",
   "execution_count": 1,
   "metadata": {},
   "outputs": [],
   "source": [
    "#Solve a single Unit mixing process"
   ]
  },
  {
   "cell_type": "code",
   "execution_count": 34,
   "metadata": {},
   "outputs": [],
   "source": [
    "import matplotlib as pyplot  #Graph results over time?\n",
    "import numpy as np   #Solve balances \n",
    "import torch        #solve balances another way?\n",
    "#x = torch.rand(3, 5)\n",
    "#y = np.array([[10,3],[10,4],[10,5],[10,6], [10,7], [10, 8], [10, 9], [10, 10]])"
   ]
  },
  {
   "cell_type": "code",
   "execution_count": 35,
   "metadata": {},
   "outputs": [
    {
     "name": "stdin",
     "output_type": "stream",
     "text": [
      "How many differnent material balances are input into the mixer? 5\n",
      "How many different input streams are there? 2\n",
      "How many output streams are there? 3\n",
      "How many relationships are there? 1\n"
     ]
    }
   ],
   "source": [
    "#Gather inputs\n",
    "totalBalances = int(input(\"How many differnent material balances are input into the mixer?\"))\n",
    "totalInputs = int(input(\"How many different input streams are there?\"))\n",
    "totalOutputs = int(input(\"How many output streams are there?\"))\n",
    "totalRelationships = int(input(\"How many relationships are there?\"))   \n",
    "\n"
   ]
  },
  {
   "cell_type": "code",
   "execution_count": 36,
   "metadata": {},
   "outputs": [
    {
     "name": "stdin",
     "output_type": "stream",
     "text": [
      "How many balances are in the 1 input stream? 3\n",
      "what is the name of the 1 value in the input stream? A\n",
      "what is the name of the 2 value in the input stream? B\n",
      "what is the name of the 3 value in the input stream? C\n",
      "How many balances are in the 2 input stream? 3\n",
      "what is the name of the 1 value in the input stream? C\n",
      "what is the name of the 2 value in the input stream? D\n",
      "what is the name of the 3 value in the input stream? e\n"
     ]
    },
    {
     "name": "stdout",
     "output_type": "stream",
     "text": [
      "['A', 'B', 'C', 'C', 'D', 'e']\n"
     ]
    },
    {
     "data": {
      "text/plain": [
       "[3, 3]"
      ]
     },
     "execution_count": 36,
     "metadata": {},
     "output_type": "execute_result"
    }
   ],
   "source": [
    "balanceNames = []\n",
    "balanceInputNames = []\n",
    "indInputLength = []\n",
    "n = 0\n",
    "y=0\n",
    "balanceArray = totalBalances\n",
    "\n",
    "for n in range (n, totalInputs):\n",
    "    X_input = int(input(\"How many balances are in the \" + f'{n+1}' + \" input stream?\"))\n",
    "    for y in range (y, X_input):\n",
    "        balanceInputNames.append(input(\"what is the name of the \" + f'{y+1}' + \" value in the input stream?\" ))\n",
    "        \n",
    "        y= 0\n",
    "    indInputLength.append(X_input)    \n",
    "    n+=1    \n",
    "    #is the value known? \n",
    "    #if yes what is value\n",
    "    #same for outputs\n",
    "print(balanceInputNames)\n",
    "balLength = len(balanceInputNames)\n",
    "indInputLength"
   ]
  },
  {
   "cell_type": "code",
   "execution_count": 37,
   "metadata": {},
   "outputs": [
    {
     "name": "stdin",
     "output_type": "stream",
     "text": [
      "Is there a flow value for the A balance in the 1 stream. Please answer with y or n y\n",
      "What is the flow rate? 100\n",
      "Is there a flow value for the B balance in the 1 stream. Please answer with y or n y\n",
      "What is the flow rate? 200\n",
      "Is there a flow value for the C balance in the 1 stream. Please answer with y or n n\n",
      "Is there a flow value for the C balance in the 2 stream. Please answer with y or n y\n",
      "What is the flow rate? 20\n",
      "Is there a flow value for the D balance in the 2 stream. Please answer with y or n y\n",
      "What is the flow rate? 100\n",
      "Is there a flow value for the e balance in the 2 stream. Please answer with y or n n\n"
     ]
    },
    {
     "name": "stdout",
     "output_type": "stream",
     "text": [
      "{'A1': '100', 'B1': '200', 'C1': 'Unknown', 'C2': '20', 'D2': '100', 'e2': 'Unknown'}\n"
     ]
    }
   ],
   "source": [
    "#create dictionary.\n",
    "#Your heart is free, have the courage to follow it. \n",
    "totalInputs\n",
    "my_variables = {}\n",
    "i = 0\n",
    "for k in range(totalInputs):\n",
    "   \n",
    "    for j in range(indInputLength[k]):\n",
    "        isFlow = input(\"Is there a flow value for the \" + balanceInputNames[i] + \" balance in the \" + f'{k+1}' + \" stream. Please answer with y or n\")\n",
    "        if(isFlow == \"y\"):\n",
    "            flowValue = input(\"What is the flow rate?\")\n",
    "            my_variables[balanceInputNames[i] + str(k+1)] = flowValue\n",
    "        else:\n",
    "            my_variables[balanceInputNames[i] + str(k+1)] = 'Unknown'\n",
    "        i += 1    \n",
    "    k+=1    \n",
    "print(my_variables)\n",
    "#Get values after creating dictionary."
   ]
  },
  {
   "cell_type": "code",
   "execution_count": 38,
   "metadata": {},
   "outputs": [
    {
     "name": "stdin",
     "output_type": "stream",
     "text": [
      "How many balances are in the 1 output stream? 2\n",
      "what is the name of the 1 value in the output stream? A\n",
      "what is the name of the 2 value in the output stream? B\n",
      "How many balances are in the 2 output stream? 1\n",
      "what is the name of the 1 value in the output stream? C\n",
      "How many balances are in the 3 output stream? 2\n",
      "what is the name of the 1 value in the output stream? D\n",
      "what is the name of the 2 value in the output stream? E\n"
     ]
    },
    {
     "name": "stdout",
     "output_type": "stream",
     "text": [
      "['A', 'B', 'C', 'D', 'E']\n"
     ]
    },
    {
     "data": {
      "text/plain": [
       "[2, 1, 2]"
      ]
     },
     "execution_count": 38,
     "metadata": {},
     "output_type": "execute_result"
    }
   ],
   "source": [
    "#Output Balances and Names\n",
    "#totalInputs + totalOuputs\n",
    "indOutputLength = []\n",
    "balanceOutputNames = []\n",
    "n1 = 0\n",
    "y1 = 0\n",
    "for n1 in range (n1, totalOutputs):\n",
    "    Y_input = int(input(\"How many balances are in the \" + f'{n1+1}' + \" output stream?\"))\n",
    "    for y1 in range (y1, Y_input):\n",
    "        balanceOutputNames.append(input(\"what is the name of the \" + f'{y1+1}' + \" value in the output stream?\" ))\n",
    "        \n",
    "        y1= 0\n",
    "    indOutputLength.append(Y_input)    \n",
    "    n1+=1    \n",
    "    #is the value known? \n",
    "    #if yes what is value\n",
    "    #same for outputs\n",
    "print(balanceOutputNames)\n",
    "balLengthOut = len(balanceOutputNames)\n",
    "indOutputLength"
   ]
  },
  {
   "cell_type": "code",
   "execution_count": 39,
   "metadata": {},
   "outputs": [
    {
     "name": "stdin",
     "output_type": "stream",
     "text": [
      "Is there a flow value for the A balance in the 1 output stream. Please answer with y or n n\n",
      "Is there a flow value for the B balance in the 1 output stream. Please answer with y or n y\n",
      "What is the flow rate? 200\n",
      "Is there a flow value for the C balance in the 2 output stream. Please answer with y or n y\n",
      "What is the flow rate? 80\n",
      "Is there a flow value for the D balance in the 3 output stream. Please answer with y or n n\n",
      "Is there a flow value for the E balance in the 3 output stream. Please answer with y or n y\n",
      "What is the flow rate? 45\n"
     ]
    },
    {
     "name": "stdout",
     "output_type": "stream",
     "text": [
      "{'A3': 'Unknown', 'B3': '100', 'C4': '100', 'D5': 'Unknown', 'E5': '100'}\n"
     ]
    }
   ],
   "source": [
    "#Outputs\n",
    "#Your heart is free, have the courage to follow it. \n",
    "totalStreams = totalInputs\n",
    "my_variables2 = {}\n",
    "i1 = 0\n",
    "for k1 in range(totalOutputs):\n",
    "   \n",
    "    for j1 in range(indOutputLength[k1]):\n",
    "        isFlow1 = input(\"Is there a flow value for the \" + balanceOutputNames[i1] + \" balance in the \" + f'{k1+1}' + \" output stream. Please answer with y or n\")\n",
    "        if(isFlow1 == \"y\"):\n",
    "            flowValue1 = input(\"What is the flow rate?\")\n",
    "            my_variables2[balanceOutputNames[i1] + str(totalStreams+1)] = flowValue\n",
    "        else:\n",
    "            my_variables2[balanceOutputNames[i1] + str(totalStreams+1)] = 'Unknown'\n",
    "        i1 += 1    \n",
    "    totalStreams+=1\n",
    "    k1+=1    \n",
    "print(my_variables2)\n",
    "#Get values after creating dictionary."
   ]
  },
  {
   "cell_type": "code",
   "execution_count": 71,
   "metadata": {},
   "outputs": [
    {
     "name": "stdout",
     "output_type": "stream",
     "text": [
      "2\n",
      "{'A1': '100', 'B1': '200', 'C1': 'Unknown', 'C2': '20', 'D2': '100', 'e2': 'Unknown'}\n",
      "3\n",
      "{'A3': 'Unknown', 'B3': '100', 'C4': '100', 'D5': 'Unknown', 'E5': '100'}\n"
     ]
    }
   ],
   "source": [
    "inpValLength = len(my_variables)\n",
    "outValLength = len(my_variables2)\n",
    "totalInStreams = len(indInputLength)\n",
    "totalOutStreams = len(indOutputLength)\n",
    "print(totalInStreams)\n",
    "print(my_variables)\n",
    "print(totalOutStreams)\n",
    "print(my_variables2)\n",
    "\n"
   ]
  },
  {
   "cell_type": "code",
   "execution_count": 72,
   "metadata": {},
   "outputs": [
    {
     "name": "stdout",
     "output_type": "stream",
     "text": [
      "6\n",
      "5\n",
      "100\n",
      "A1\n",
      "None\n",
      "B2\n",
      "None\n",
      "C3\n",
      "None\n",
      "C4\n",
      "None\n",
      "D5\n",
      "None\n",
      "e6\n",
      "200\n",
      "100\n",
      "0\n"
     ]
    }
   ],
   "source": [
    "print(inpValLength)\n",
    "print(outValLength)\n",
    "u = 0\n",
    "testUnk = 0\n",
    "for u in range(1, totalInStreams):\n",
    "    var = my_variables.get(balanceInputNames[u] + str(u+1))\n",
    "    if(var == \"unknown\"):\n",
    "        testUnk += 1\n",
    "        print(var)\n",
    "        print(balanceInputNames[u]+ str(u+1))\n",
    "    else:\n",
    "        testUnk\n",
    "        print(var)\n",
    "        print(balanceInputNames[u]+ str(u+1))\n",
    "    u+=1    \n",
    "print(my_variables.get('B1'))\n",
    "print(my_variables2.get('C4'))\n",
    "print(testUnk)       \n",
    "#for w in range()"
   ]
  },
  {
   "cell_type": "code",
   "execution_count": null,
   "metadata": {},
   "outputs": [],
   "source": [
    "#Add ratios after solver functional for inputs and outputs.\n",
    "\n",
    "#areRatios = (\"Are there ratio's in any of the input streams: Yes or No\")\n",
    "#ratioStream = []\n",
    "\n",
    "#if (areRatios == \"Yes\" or \"yes\"):\n",
    "#    totalRatios = int(input(\"How many input stream ratios are there total\"))\n",
    "#    for n in range (0, totalRatios):    \n",
    "#        whichStream = input(\"Which stream has a ration: enter one at a time.\")\n",
    "    \n",
    "    #which balance\n",
    "    #what ratio with what other balance\n",
    "    #mass or molar ratio.\n",
    "    #Known inputs and outputs"
   ]
  },
  {
   "cell_type": "code",
   "execution_count": null,
   "metadata": {},
   "outputs": [],
   "source": [
    "#Determine the Degrees of Freedom Analysis.\n",
    "#Add up quantity of unknowns, balances, and Extra ratio's. \n",
    "\n",
    "\n",
    "#is the problem solvable?\n",
    "#how many equations, how many balances, how many extra parameters?\n",
    "#include a basis calculator"
   ]
  },
  {
   "cell_type": "code",
   "execution_count": null,
   "metadata": {},
   "outputs": [],
   "source": [
    "#set up array for solving unknows."
   ]
  },
  {
   "cell_type": "code",
   "execution_count": null,
   "metadata": {},
   "outputs": [],
   "source": [
    "#Solve unknows.."
   ]
  },
  {
   "cell_type": "code",
   "execution_count": null,
   "metadata": {},
   "outputs": [],
   "source": [
    "#print resuts..."
   ]
  },
  {
   "cell_type": "code",
   "execution_count": null,
   "metadata": {},
   "outputs": [],
   "source": []
  },
  {
   "cell_type": "code",
   "execution_count": null,
   "metadata": {},
   "outputs": [],
   "source": []
  }
 ],
 "metadata": {
  "kernelspec": {
   "display_name": "Python 3",
   "language": "python",
   "name": "python3"
  },
  "language_info": {
   "codemirror_mode": {
    "name": "ipython",
    "version": 3
   },
   "file_extension": ".py",
   "mimetype": "text/x-python",
   "name": "python",
   "nbconvert_exporter": "python",
   "pygments_lexer": "ipython3",
   "version": "3.8.3"
  }
 },
 "nbformat": 4,
 "nbformat_minor": 4
}
